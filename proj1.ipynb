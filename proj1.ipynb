{
  "nbformat": 4,
  "nbformat_minor": 0,
  "metadata": {
    "colab": {
      "name": "proj1.ipynb",
      "provenance": [],
      "collapsed_sections": [],
      "include_colab_link": true
    },
    "kernelspec": {
      "name": "python3",
      "display_name": "Python 3"
    },
    "language_info": {
      "name": "python"
    }
  },
  "cells": [
    {
      "cell_type": "markdown",
      "metadata": {
        "id": "view-in-github",
        "colab_type": "text"
      },
      "source": [
        "<a href=\"https://colab.research.google.com/github/ShainaBagri/ClassifyDocumentTopics/blob/main/proj1.ipynb\" target=\"_parent\"><img src=\"https://colab.research.google.com/assets/colab-badge.svg\" alt=\"Open In Colab\"/></a>"
      ]
    },
    {
      "cell_type": "code",
      "metadata": {
        "colab": {
          "base_uri": "https://localhost:8080/"
        },
        "id": "Xu-zBj8yirhF",
        "outputId": "bfe376c7-ebc2-4c55-a5ce-70b2bd6e58f2"
      },
      "source": [
        "!wget 'http://users.csc.calpoly.edu/~foaad/proj1F21_files.zip'\n",
        "!unzip 'proj1F21_files.zip'"
      ],
      "execution_count": 78,
      "outputs": [
        {
          "output_type": "stream",
          "name": "stdout",
          "text": [
            "--2021-10-20 19:55:41--  http://users.csc.calpoly.edu/~foaad/proj1F21_files.zip\n",
            "Resolving users.csc.calpoly.edu (users.csc.calpoly.edu)... 129.65.128.20\n",
            "Connecting to users.csc.calpoly.edu (users.csc.calpoly.edu)|129.65.128.20|:80... connected.\n",
            "HTTP request sent, awaiting response... 200 OK\n",
            "Length: 129006 (126K) [application/zip]\n",
            "Saving to: ‘proj1F21_files.zip.1’\n",
            "\n",
            "proj1F21_files.zip. 100%[===================>] 125.98K   545KB/s    in 0.2s    \n",
            "\n",
            "2021-10-20 19:55:42 (545 KB/s) - ‘proj1F21_files.zip.1’ saved [129006/129006]\n",
            "\n",
            "Archive:  proj1F21_files.zip\n",
            "replace proj1F21_files/proj1F21_1412_A.html? [y]es, [n]o, [A]ll, [N]one, [r]ename: A\n",
            "  inflating: proj1F21_files/proj1F21_1412_A.html  \n",
            "  inflating: proj1F21_files/proj1F21_1412_B.html  \n",
            "  inflating: proj1F21_files/proj1F21_1422_A.html  \n",
            "  inflating: proj1F21_files/proj1F21_1422_B.html  \n",
            "  inflating: proj1F21_files/proj1F21_1483_A.html  \n",
            "  inflating: proj1F21_files/proj1F21_1483_B.html  \n",
            "  inflating: proj1F21_files/proj1F21_1794_A.html  \n",
            "  inflating: proj1F21_files/proj1F21_1794_B.html  \n",
            "  inflating: proj1F21_files/proj1F21_1901_A.html  \n",
            "  inflating: proj1F21_files/proj1F21_1901_B.html  \n",
            "  inflating: proj1F21_files/proj1F21_2404_A.html  \n",
            "  inflating: proj1F21_files/proj1F21_2404_B.html  \n",
            "  inflating: proj1F21_files/proj1F21_2422_A.html  \n",
            "  inflating: proj1F21_files/proj1F21_2422_B.html  \n",
            "  inflating: proj1F21_files/proj1F21_2509_A.html  \n",
            "  inflating: proj1F21_files/proj1F21_2509_B.html  \n",
            "  inflating: proj1F21_files/proj1F21_2592_A.html  \n",
            "  inflating: proj1F21_files/proj1F21_2592_B.html  \n",
            "  inflating: proj1F21_files/proj1F21_2605_A.html  \n",
            "  inflating: proj1F21_files/proj1F21_2605_B.html  \n",
            "  inflating: proj1F21_files/proj1F21_2925_A.html  \n",
            "  inflating: proj1F21_files/proj1F21_2925_B.html  \n",
            "  inflating: proj1F21_files/proj1F21_3061_A.html  \n",
            "  inflating: proj1F21_files/proj1F21_3061_B.html  \n",
            "  inflating: proj1F21_files/proj1F21_3363_A.html  \n",
            "  inflating: proj1F21_files/proj1F21_3363_B.html  \n",
            "  inflating: proj1F21_files/proj1F21_3453_A.html  \n",
            "  inflating: proj1F21_files/proj1F21_3453_B.html  \n",
            "  inflating: proj1F21_files/proj1F21_3490_A.html  \n",
            "  inflating: proj1F21_files/proj1F21_3490_B.html  \n",
            "  inflating: proj1F21_files/proj1F21_3509_A.html  \n",
            "  inflating: proj1F21_files/proj1F21_3509_B.html  \n",
            "  inflating: proj1F21_files/proj1F21_3550_A.html  \n",
            "  inflating: proj1F21_files/proj1F21_3550_B.html  \n",
            "  inflating: proj1F21_files/proj1F21_3618_A.html  \n",
            "  inflating: proj1F21_files/proj1F21_3618_B.html  \n",
            "  inflating: proj1F21_files/proj1F21_3647_A.html  \n",
            "  inflating: proj1F21_files/proj1F21_3647_B.html  \n",
            "  inflating: proj1F21_files/proj1F21_3928_A.html  \n",
            "  inflating: proj1F21_files/proj1F21_3928_B.html  \n",
            "  inflating: proj1F21_files/proj1F21_3942_A.html  \n",
            "  inflating: proj1F21_files/proj1F21_3942_B.html  \n",
            "  inflating: proj1F21_files/proj1F21_4001_A.html  \n",
            "  inflating: proj1F21_files/proj1F21_4001_B.html  \n",
            "  inflating: proj1F21_files/proj1F21_4079_A.html  \n",
            "  inflating: proj1F21_files/proj1F21_4079_B.html  \n",
            "  inflating: proj1F21_files/proj1F21_6218_A.html  \n",
            "  inflating: proj1F21_files/proj1F21_6218_B.html  \n",
            "  inflating: proj1F21_files/proj1F21_6388_A.html  \n",
            "  inflating: proj1F21_files/proj1F21_6388_B.html  \n",
            "  inflating: proj1F21_files/proj1F21_6533_A.html  \n",
            "  inflating: proj1F21_files/proj1F21_6533_B.html  \n",
            "  inflating: proj1F21_files/proj1F21_6585_A.html  \n",
            "  inflating: proj1F21_files/proj1F21_6585_B.html  \n",
            "  inflating: proj1F21_files/proj1F21_6728_A.html  \n",
            "  inflating: proj1F21_files/proj1F21_6728_B.html  \n",
            "  inflating: proj1F21_files/proj1F21_6737_A.html  \n",
            "  inflating: proj1F21_files/proj1F21_6737_B.html  \n",
            "  inflating: proj1F21_files/proj1F21_8630_A.html  \n",
            "  inflating: proj1F21_files/proj1F21_8630_B.html  \n",
            "  inflating: proj1F21_files/proj1F21_8842_A.html  \n",
            "  inflating: proj1F21_files/proj1F21_8842_B.html  \n",
            "  inflating: proj1F21_files/proj1F21_8980_A.html  \n",
            "  inflating: proj1F21_files/proj1F21_8980_B.html  \n",
            "  inflating: proj1F21_files/proj1F21_9348_A.html  \n",
            "  inflating: proj1F21_files/proj1F21_9348_B.html  \n",
            "  inflating: proj1F21_files/proj1F21_9578_A.html  \n",
            "  inflating: proj1F21_files/proj1F21_9578_B.html  \n"
          ]
        }
      ]
    },
    {
      "cell_type": "code",
      "metadata": {
        "colab": {
          "base_uri": "https://localhost:8080/"
        },
        "id": "CD5hswpu09YW",
        "outputId": "0054d1d3-6bef-4001-cc33-773cfd2607ca"
      },
      "source": [
        "!pip install html2text"
      ],
      "execution_count": 79,
      "outputs": [
        {
          "output_type": "stream",
          "name": "stdout",
          "text": [
            "Requirement already satisfied: html2text in /usr/local/lib/python3.7/dist-packages (2020.1.16)\n"
          ]
        }
      ]
    },
    {
      "cell_type": "code",
      "metadata": {
        "id": "UsfKLCZA28NW",
        "colab": {
          "base_uri": "https://localhost:8080/"
        },
        "outputId": "b702c596-c7fd-4c00-897d-6ebb7494d312"
      },
      "source": [
        "import nltk\n",
        "nltk.download('punkt')\n",
        "# from nltk import PunktSentenceTokenizer\n",
        "import pandas as pd\n",
        "import numpy as np\n",
        "import os\n",
        "import random\n",
        "import re\n",
        "import html2text\n",
        "from sklearn.feature_extraction.text import TfidfVectorizer\n",
        "random.seed(123)"
      ],
      "execution_count": 151,
      "outputs": [
        {
          "output_type": "stream",
          "name": "stdout",
          "text": [
            "[nltk_data] Downloading package punkt to /root/nltk_data...\n",
            "[nltk_data]   Package punkt is already up-to-date!\n"
          ]
        }
      ]
    },
    {
      "cell_type": "code",
      "metadata": {
        "id": "pS1V5EDI5ZXi"
      },
      "source": [
        "sent_tokenizer = nltk.data.load('tokenizers/punkt/english.pickle')\n",
        "def fixRaw(text):\n",
        "  newText = \"\"\n",
        "  for p in re.split('\\n\\n+', text):\n",
        "    newText = newText + p.replace('\\n', ' ').strip() + '\\n'\n",
        "  return newText\n",
        "\n",
        "def tokenizeText(text):\n",
        "  goodParas = []\n",
        "  for para in re.split('\\n\\n+', text):\n",
        "    sents = sent_tokenizer.tokenize(para.replace('\\n', ' ').strip())\n",
        "    goodSents = []\n",
        "    for sent in sents:\n",
        "      # TODO: lemmatize / convert contractions here?\n",
        "      words = [word.lower() for word in nltk.word_tokenize(sent)]\n",
        "      goodSents.append(words)\n",
        "    \n",
        "    goodParas.append(goodSents)\n",
        "      \n",
        "  return goodParas\n",
        "\n",
        "def extractFeaturesDoc(tokText):\n",
        " \n",
        "  features = {}\n",
        "\n",
        "  # dummy data\n",
        "  features['len'] = len(tokText)\n",
        "\n",
        "  # features['tfidf'] = tfidf\n",
        "\n",
        "  return features"
      ],
      "execution_count": 152,
      "outputs": []
    },
    {
      "cell_type": "code",
      "metadata": {
        "id": "5HkMttbDh718",
        "colab": {
          "base_uri": "https://localhost:8080/"
        },
        "outputId": "225e3c45-30a5-4f82-cc28-2ac96188b06b"
      },
      "source": [
        "dir = './proj1F21_files/'\n",
        "# docs = pd.DataFrame(columns=['author', 'subject', 'rawText'])\n",
        "docs = []\n",
        "for document in os.listdir(dir):\n",
        "  dict = {}\n",
        "  docName = document.split(\"_\")\n",
        "  dict['author'] = docName[1]\n",
        "  dict['subject'] = docName[2][0]\n",
        "  with open(dir + document) as f:\n",
        "    dict['htmlText'] = f.read()\n",
        "    dict['rawText'] = html2text.html2text(dict['htmlText'])\n",
        "    dict['fixedRawText'] = fixRaw(dict['rawText'])\n",
        "    # tokenize \n",
        "    dict['tokenizedText'] = tokenizeText(dict['rawText']) \n",
        "\n",
        "  docs.append(dict)\n",
        "\n",
        "# split into training and test sets\n",
        "random.shuffle(docs)\n",
        "split = int(len(docs) *0.8)\n",
        "test_set = pd.DataFrame(docs[split:])\n",
        "training_set = pd.DataFrame(docs[:split])\n",
        "\n",
        "# print(training_set['htmlText'][0])\n",
        "# print(training_set['rawText'][0])\n",
        "print(training_set['tokenizedText'][0])"
      ],
      "execution_count": 153,
      "outputs": [
        {
          "output_type": "stream",
          "name": "stdout",
          "text": [
            "[[['while', 'i', 'haven', '’', 't', 'had', 'a', 'ton', 'of', 'experiences', 'to', 'shape', 'myself', 'into', 'a', 'leader', 'yet', ',', 'i', 'know', 'that', 'one', 'leader', 'i', 'look', 'up', 'to', 'a', 'lot', 'is', 'steve', 'jobs', '.'], ['while', 'steve', 'jobs', 'wasn', '’', 't', 'the', 'best', 'person', 'in', 'the', 'world', 'and', 'did/said', 'a', 'lot', 'of', 'mean', 'and', 'hurtful', 'things', 'to', 'other', 'people', ',', 'i', 'think', 'there', 'were', 'certain', 'aspects', 'of', 'his', 'leadership', 'style', 'that', 'i', 'really', 'admire', 'and', 'would', 'like', 'to', 'emulate', '.'], ['there', 'are', 'many', 'leadership', 'traits', 'that', 'steve', 'jobs', 'embodied', ',', 'and', 'i', 'would', 'like', 'to', 'embody', 'as', 'well', '.'], ['i', 'think', 'the', 'most', 'significant', 'three', 'traits', 'were', 'decisiveness', ',', 'tact', ',', 'and', 'endurance', '.'], ['as', 'apple', '’', 's', 'ceo', ',', 'steve', 'jobs', 'constantly', 'made', 'decisions', '.'], ['he', 'made', 'decisions', 'to', 'determine', 'the', 'aesthetics', 'of', 'apple', 'products', ',', 'what', 'kinds', 'of', 'markets', 'they', 'should', 'target', ',', 'very', 'small', 'details', 'of', 'product', 'design', ',', 'as', 'well', 'as', 'many', 'other', 'decisions', '.'], ['the', 'majority', 'of', 'the', 'decisions', 'steve', 'jobs', 'made', 'were', 'made', 'very', 'quickly', ',', 'and', 'most', 'of', 'the', 'time', ',', 'were', 'also', 'the', 'best', 'decisions', 'to', 'be', 'made', '.'], ['i', 'am', 'reading', 'his', 'biography', 'right', 'now', ',', 'and', 'there', 'are', 'multiple', 'accounts', 'of', 'people', 'coming', 'to', 'work', 'for', 'apple', 'and', 'being', 'astounded', 'to', 'find', 'that', 'steve', 'jobs', 'would', 'make', 'decisions', 'to', 'change', 'fundamental', 'features', 'of', 'a', 'product', 'on', 'a', 'whim', '.'], ['at', 'the', 'corporations', 'these', 'people', 'worked', 'at', 'beforehand', ',', 'they', 'would', 'have', 'to', 'go', 'through', 'weeks', 'of', 'powerpoint', 'presentations', 'to', 'convince', 'old', 'board', 'members', 'that', 'their', 'product', 'changes', 'were', 'the', 'right', 'ones', 'to', 'make', '.'], ['this', 'was', 'not', 'the', 'case', 'with', 'jobs', '.'], ['if', 'there', 'was', 'an', 'important', 'change', 'that', 'needed', 'to', 'be', 'made', ',', 'jobs', 'would', 'be', 'able', 'to', 'see', 'the', 'importance', 'of', 'the', 'change', 'and', 'decide', 'to', 'make', 'it', 'at', 'the', 'snap', 'of', 'his', 'fingers', '.'], ['i', 'would', 'like', 'to', 'embody', 'jobs', '’', 'ability', 'to', 'make', 'decisions', 'both', 'accurately', 'and', 'quickly', '.'], ['i', 'believe', 'it', 'is', 'the', 'ability', 'to', 'make', 'the', 'right', 'decisions', 'at', 'the', 'right', 'times', 'that', 'will', 'determine', 'a', 'leader', '’', 's', 'ability', 'to', 'create', 'great', 'products', '.'], ['not', 'only', 'was', 'jobs', 'decisive', 'though', ',', 'but', 'he', 'also', 'showed', 'a', 'great', 'deal', 'of', 'tact', '.']], [['steve', 'jobs', 'was', 'a', 'very', 'tactful', 'ceo', '.'], ['in', 'the', '80s', ',', 'jobs', 'was', 'ousted', 'from', 'his', 'role', 'as', 'apple', '’', 's', 'ceo', ',', 'and', 'for', 'a', 'while', 'didn', '’', 't', 'know', 'what', 'he', 'would', 'do', '.'], ['he', 'eventually', 'started', 'a', 'new', 'computer', 'company', 'named', 'next', ',', 'and', 'also', 'helped', 'start', 'pixar', ',', 'which', 'would', 'go', 'on', 'to', 'create', 'toy', 'story', 'under', 'his', 'leadership', '.'], ['jobs', 'was', 'very', 'tactful', 'at', 'pixar', ',', 'as', 'the', 'company', 'actually', 'started', 'when', 'jobs', 'bought', 'lucasfilm', '’', 's', 'computer', 'graphics', 'division', 'because', 'jobs', 'saw', 'the', 'intersection', 'of', 'the', 'arts', 'and', 'computing', 'as', 'the', 'future', '.'], ['jobs', 'bought', 'lucasfilm', '’', 's', 'graphics', 'division', 'for', '$', '5', 'million', ',', 'toy', 'story', 'had', 'a', 'box', 'office', 'of', '$', '373', 'million', '.'], ['jobs', 'was', 'even', 'more', 'tactful', 'with', 'next', ',', 'as', 'he', 'designed', 'his', 'software', 'to', 'work', 'on', 'apple', 'computers', ',', 'and', 'when', 'apple', 'was', 'looking', 'for', 'a', 'company', 'to', 'help', 'them', 'build', 'their', 'own', 'software', 'after', 'some', 'struggles', ',', 'they', 'ended', 'up', 'buying', 'next', '.'], ['this', 'eventually', 'put', 'jobs', 'back', 'into', 'his', 'role', 'as', 'apple', '’', 's', 'ceo', 'leading', 'to', 'apple', '’', 's', 'great', 'success', 'with', 'the', 'ipod', 'and', 'iphone', '.'], ['not', 'only', 'was', 'jobs', 'tactful', ',', 'he', 'also', 'showed', 'a', 'great', 'deal', 'of', 'endurance', '.']], [['the', 'ability', 'to', 'focus', 'on', 'something', 'intensely', 'for', 'great', 'periods', 'of', 'time', 'was', 'often', 'noted', 'as', 'one', 'of', 'steve', 'jobs', '’', 'signature', 'traits', '.'], ['jobs', 'could', 'endure', 'long', 'hours', 'of', 'focusing', 'on', 'the', 'same', 'problem', ',', 'which', 'led', 'him', 'to', 'come', 'up', 'with', 'great', 'solutions', 'to', 'large', 'business', 'problems', '.'], ['i', 'believe', 'this', 'is', 'a', 'trait', 'i', 'have', 'shown', 'in', 'individual', 'cs', 'settings', 'but', 'have', 'not', 'yet', 'shown', 'in', 'a', 'leadership', 'setting', '.'], ['since', 'i', 'can', 'not', 'think', 'of', 'any', 'standout', 'times', ',', 'i', 'have', 'shown', 'leadership', 'traits', 'in', 'leadership', 'settings', '(', 'since', 'cs', 'work', 'is', 'often', 'individual', ')', 'i', 'will', 'just', 'talk', 'about', 'an', 'individual', 'experience', '.'], ['this', 'past', 'fall', 'quarter', 'i', 'took', 'the', 'class', 'cpe', '357', ',', 'which', 'is', 'known', 'as', 'the', 'hardest', 'or', 'one', 'of', 'the', 'hardest', 'cs', 'classes', 'at', 'cal', 'poly', '.'], ['in', 'this', 'class', 'we', 'have', '20', 'labs', 'and', '7', 'projects', 'in', '10', 'weeks', ',', 'in', 'most', 'cs', 'classes', 'you', 'have', '9', 'labs', 'and', '3', 'projects', 'in', '10', 'weeks', '.'], ['this', 'class', 'was', 'designed', 'to', 'push', 'students', 'to', 'their', 'limits', ',', 'and', 'weed', 'out', 'the', 'ones', 'that', 'couldn', '’', 't', 'handle', 'cs', '.'], ['this', 'class', 'pushed', 'me', 'past', 'my', 'limit', '.'], ['before', 'taking', 'this', 'class', 'i', 'always', 'felt', 'that', 'i', 'naturally', 'had', 'a', 'poor', 'work', 'ethic', 'and', 'a', 'lack', 'of', 'focus', 'and', 'discipline', 'on', 'my', 'assignments', '.'], ['this', 'class', 'showed', 'me', 'that', 'my', 'potential', 'for', 'endurance', 'can', 'only', 'be', 'known', 'by', 'pushing', 'myself', 'as', 'hard', 'as', 'i', 'can', '.'], ['there', 'were', 'points', 'in', 'this', 'class', 'where', 'i', 'would', 'have', 'to', 'pull', '14-hour', 'days', 'for', 'weeks', 'straight', '.'], ['i', 'would', 'get', 'up', 'at', '7am', ',', 'start', 'coding', ',', 'and', 'not', 'stop', 'until', '12am', 'when', 'i', 'would', 'go', 'back', 'to', 'bed', '(', 'i', 'would', 'take', 'breaks', 'to', 'eat', 'which', 'probably', 'removed', '~4-5', 'hours', 'of', 'work', 'time', ')', '.'], ['this', 'was', 'the', 'hardest', 'i', 'have', 'ever', 'worked', 'on', 'something', 'in', 'my', 'life', '.'], ['while', 'this', 'semi-deteriorated', 'a', 'lot', 'of', 'relationships', 'in', 'my', 'life', 'as', 'well', 'as', 'my', 'physical', 'health', 'a', 'bit', ',', 'it', 'showed', 'me', 'that', 'i', 'am', 'capable', 'of', 'endurance', 'greater', 'than', 'i', 'had', 'known', 'before', '.'], ['with', 'enough', 'hard', 'work', 'and', 'effort', ',', 'i', 'was', 'able', 'to', 'finish', 'near', 'the', 'top', 'of', 'my', 'class', 'and', 'earned', 'an', 'a-', '.'], ['because', 'of', 'this', 'experience', 'i', 'now', 'have', 'a', 'better', 'idea', 'of', 'what', 'it', 'takes', 'to', 'focus', 'and', 'endure', 'suffering', 'and', 'want', 'to', 'take', 'this', 'understanding', 'to', 'leadership', 'roles', 'in', 'my', 'future', '.']], [['to', 'summarize', ',', 'three', 'of', 'the', 'leadership', 'traits', 'steve', 'jobs', 'embodied', 'that', 'i', 'want', 'to', 'embody', 'as', 'well', 'were', 'decisiveness', ',', 'tact', ',', 'and', 'endurance', '.'], ['steve', 'jobs', 'could', 'make', 'decisions', 'on', 'a', 'whim', ',', 'strategize', 'to', 'put', 'himself', 'in', 'positions', 'for', 'success', ',', 'and', 'could', 'focus', 'and', 'endure', 'for', 'great', 'amounts', 'of', 'time', '.'], ['while', 'steve', 'jobs', 'was', 'not', 'a', 'great', 'person', ',', 'i', 'hope', 'that', 'with', 'enough', 'effort', 'and', 'leadership', 'experience', ',', 'i', 'can', 'embody', 'these', 'traits', 'as', 'well', '.']], []]\n"
          ]
        }
      ]
    },
    {
      "cell_type": "code",
      "metadata": {
        "id": "cHNeMvbIsyoK",
        "colab": {
          "base_uri": "https://localhost:8080/"
        },
        "outputId": "9850ee61-b15e-46a6-9db3-f0c9bbb184ac"
      },
      "source": [
        "print(training_set['rawText'][0])\n",
        "print(training_set['fixedRawText'][0])"
      ],
      "execution_count": 154,
      "outputs": [
        {
          "output_type": "stream",
          "name": "stdout",
          "text": [
            "    While I haven’t had a ton of experiences to shape myself into a leader yet, I know that one leader I look up to a lot is Steve Jobs. While Steve Jobs wasn’t the best person in the world and did/said a lot of mean and hurtful things to other people, I think there were certain aspects of his leadership style that I really admire and would like to emulate. There are many leadership traits that Steve Jobs embodied, and I would like to embody as well. I think the most significant three traits were Decisiveness, Tact, and Endurance.  \n",
            "As Apple’s CEO, Steve Jobs constantly made decisions. He made decisions to\n",
            "determine the aesthetics of Apple products, what kinds of markets they should\n",
            "target, very small details of product design, as well as many other decisions.\n",
            "The majority of the decisions Steve Jobs made were made very quickly, and most\n",
            "of the time, were also the best decisions to be made. I am reading his\n",
            "biography right now, and there are multiple accounts of people coming to work\n",
            "for Apple and being astounded to find that Steve Jobs would make decisions to\n",
            "change fundamental features of a product on a whim. At the corporations these\n",
            "people worked at beforehand, they would have to go through weeks of PowerPoint\n",
            "presentations to convince old board members that their product changes were\n",
            "the right ones to make. This was not the case with Jobs. If there was an\n",
            "important change that needed to be made, Jobs would be able to see the\n",
            "importance of the change and decide to make it at the snap of his fingers. I\n",
            "would like to embody Jobs’ ability to make decisions both accurately and\n",
            "quickly. I believe it is the ability to make the right decisions at the right\n",
            "times that will determine a leader’s ability to create great products. Not\n",
            "only was Jobs decisive though, but he also showed a great deal of Tact.\n",
            "\n",
            "    Steve Jobs was a very tactful CEO. In the 80s, Jobs was ousted from his role as Apple’s CEO, and for a while didn’t know what he would do. He eventually started a new computer company named NeXT, and also helped start Pixar, which would go on to create Toy Story under his leadership. Jobs was very tactful at Pixar, as the company actually started when Jobs bought Lucasfilm’s computer graphics division because Jobs saw the intersection of the arts and computing as the future. Jobs bought Lucasfilm’s graphics division for $5 million, Toy Story had a box office of $373 million. Jobs was even more tactful with NeXT, as he designed his software to work on Apple computers, and when Apple was looking for a company to help them build their own software after some struggles, they ended up buying NeXT. This eventually put Jobs back into his role as Apple’s CEO leading to Apple’s great success with the iPod and iPhone. Not only was Jobs tactful, he also showed a great deal of endurance.\n",
            "\n",
            "    The ability to focus on something intensely for great periods of time was often noted as one of Steve Jobs’ signature traits. Jobs could endure long hours of focusing on the same problem, which led him to come up with great solutions to large business problems. I believe this is a trait I have shown in individual CS settings but have not yet shown in a leadership setting. Since I cannot think of any standout times, I have shown leadership traits in leadership settings (since CS work is often individual) I will just talk about an individual experience. This past fall quarter I took the class CPE 357, which is known as the hardest or one of the hardest CS classes at Cal Poly. In this class we have 20 labs and 7 projects in 10 weeks, in most CS classes you have 9 labs and 3 projects in 10 weeks. This class was designed to push students to their limits, and weed out the ones that couldn’t handle CS. This class pushed me past my limit. Before taking this class I always felt that I naturally had a poor work ethic and a lack of focus and discipline on my assignments. This class showed me that my potential for endurance can only be known by pushing myself as hard as I can. There were points in this class where I would have to pull 14-hour days for weeks straight. I would get up at 7AM, start coding, and not stop until 12AM when I would go back to bed (I would take breaks to eat which probably removed ~4-5 hours of work time). This was the hardest I have ever worked on something in my life. While this semi-deteriorated a lot of relationships in my life as well as my physical health a bit, it showed me that I am capable of endurance greater than I had known before. With enough hard work and effort, I was able to finish near the top of my class and earned an A-. Because of this experience I now have a better idea of what it takes to focus and endure suffering and want to take this understanding to leadership roles in my future.\n",
            "\n",
            "    To summarize, three of the leadership traits Steve Jobs embodied that I want to embody as well were Decisiveness, Tact, and Endurance. Steve Jobs could make decisions on a whim, strategize to put himself in positions for success, and could focus and endure for great amounts of time. While Steve Jobs was not a great person, I hope that with enough effort and leadership experience, I can embody these traits as well.\n",
            "\n",
            "\n",
            "While I haven’t had a ton of experiences to shape myself into a leader yet, I know that one leader I look up to a lot is Steve Jobs. While Steve Jobs wasn’t the best person in the world and did/said a lot of mean and hurtful things to other people, I think there were certain aspects of his leadership style that I really admire and would like to emulate. There are many leadership traits that Steve Jobs embodied, and I would like to embody as well. I think the most significant three traits were Decisiveness, Tact, and Endurance.   As Apple’s CEO, Steve Jobs constantly made decisions. He made decisions to determine the aesthetics of Apple products, what kinds of markets they should target, very small details of product design, as well as many other decisions. The majority of the decisions Steve Jobs made were made very quickly, and most of the time, were also the best decisions to be made. I am reading his biography right now, and there are multiple accounts of people coming to work for Apple and being astounded to find that Steve Jobs would make decisions to change fundamental features of a product on a whim. At the corporations these people worked at beforehand, they would have to go through weeks of PowerPoint presentations to convince old board members that their product changes were the right ones to make. This was not the case with Jobs. If there was an important change that needed to be made, Jobs would be able to see the importance of the change and decide to make it at the snap of his fingers. I would like to embody Jobs’ ability to make decisions both accurately and quickly. I believe it is the ability to make the right decisions at the right times that will determine a leader’s ability to create great products. Not only was Jobs decisive though, but he also showed a great deal of Tact.\n",
            "Steve Jobs was a very tactful CEO. In the 80s, Jobs was ousted from his role as Apple’s CEO, and for a while didn’t know what he would do. He eventually started a new computer company named NeXT, and also helped start Pixar, which would go on to create Toy Story under his leadership. Jobs was very tactful at Pixar, as the company actually started when Jobs bought Lucasfilm’s computer graphics division because Jobs saw the intersection of the arts and computing as the future. Jobs bought Lucasfilm’s graphics division for $5 million, Toy Story had a box office of $373 million. Jobs was even more tactful with NeXT, as he designed his software to work on Apple computers, and when Apple was looking for a company to help them build their own software after some struggles, they ended up buying NeXT. This eventually put Jobs back into his role as Apple’s CEO leading to Apple’s great success with the iPod and iPhone. Not only was Jobs tactful, he also showed a great deal of endurance.\n",
            "The ability to focus on something intensely for great periods of time was often noted as one of Steve Jobs’ signature traits. Jobs could endure long hours of focusing on the same problem, which led him to come up with great solutions to large business problems. I believe this is a trait I have shown in individual CS settings but have not yet shown in a leadership setting. Since I cannot think of any standout times, I have shown leadership traits in leadership settings (since CS work is often individual) I will just talk about an individual experience. This past fall quarter I took the class CPE 357, which is known as the hardest or one of the hardest CS classes at Cal Poly. In this class we have 20 labs and 7 projects in 10 weeks, in most CS classes you have 9 labs and 3 projects in 10 weeks. This class was designed to push students to their limits, and weed out the ones that couldn’t handle CS. This class pushed me past my limit. Before taking this class I always felt that I naturally had a poor work ethic and a lack of focus and discipline on my assignments. This class showed me that my potential for endurance can only be known by pushing myself as hard as I can. There were points in this class where I would have to pull 14-hour days for weeks straight. I would get up at 7AM, start coding, and not stop until 12AM when I would go back to bed (I would take breaks to eat which probably removed ~4-5 hours of work time). This was the hardest I have ever worked on something in my life. While this semi-deteriorated a lot of relationships in my life as well as my physical health a bit, it showed me that I am capable of endurance greater than I had known before. With enough hard work and effort, I was able to finish near the top of my class and earned an A-. Because of this experience I now have a better idea of what it takes to focus and endure suffering and want to take this understanding to leadership roles in my future.\n",
            "To summarize, three of the leadership traits Steve Jobs embodied that I want to embody as well were Decisiveness, Tact, and Endurance. Steve Jobs could make decisions on a whim, strategize to put himself in positions for success, and could focus and endure for great amounts of time. While Steve Jobs was not a great person, I hope that with enough effort and leadership experience, I can embody these traits as well.\n",
            "\n",
            "\n"
          ]
        }
      ]
    },
    {
      "cell_type": "code",
      "metadata": {
        "id": "2ebDwTsnCLFn"
      },
      "source": [
        "## TFIDF needs to be outside features bec. it needs to be fit on all documents, not each one separately\n",
        "# tfidf = TfidfVectorizer(sublinear_tf=True, max_df=0.75)\n",
        "# tfidf.fit(training_set['fixedRawText'])\n",
        "# training_set['tfidf'] = tfidf.transform(training_set['fixedRawText'])"
      ],
      "execution_count": 118,
      "outputs": []
    },
    {
      "cell_type": "code",
      "metadata": {
        "colab": {
          "base_uri": "https://localhost:8080/",
          "height": 293
        },
        "id": "bWccc5Y0MBdV",
        "outputId": "8aec6fc4-4cd9-4e99-b0b1-85e3970f08d8"
      },
      "source": [
        "training_set['features'] = training_set.apply(lambda x: extractFeaturesDoc(x['tokenizedText']), axis=1)\n",
        "training_set.head()"
      ],
      "execution_count": 155,
      "outputs": [
        {
          "output_type": "execute_result",
          "data": {
            "text/html": [
              "<div>\n",
              "<style scoped>\n",
              "    .dataframe tbody tr th:only-of-type {\n",
              "        vertical-align: middle;\n",
              "    }\n",
              "\n",
              "    .dataframe tbody tr th {\n",
              "        vertical-align: top;\n",
              "    }\n",
              "\n",
              "    .dataframe thead th {\n",
              "        text-align: right;\n",
              "    }\n",
              "</style>\n",
              "<table border=\"1\" class=\"dataframe\">\n",
              "  <thead>\n",
              "    <tr style=\"text-align: right;\">\n",
              "      <th></th>\n",
              "      <th>author</th>\n",
              "      <th>subject</th>\n",
              "      <th>htmlText</th>\n",
              "      <th>rawText</th>\n",
              "      <th>fixedRawText</th>\n",
              "      <th>tokenizedText</th>\n",
              "      <th>features</th>\n",
              "    </tr>\n",
              "  </thead>\n",
              "  <tbody>\n",
              "    <tr>\n",
              "      <th>0</th>\n",
              "      <td>8842</td>\n",
              "      <td>A</td>\n",
              "      <td>\\n\\n\\n&lt;!DOCTYPE html PUBLIC \"-//W3C//DTD XHTML...</td>\n",
              "      <td>While I haven’t had a ton of experiences t...</td>\n",
              "      <td>While I haven’t had a ton of experiences to sh...</td>\n",
              "      <td>[[[while, i, haven, ’, t, had, a, ton, of, exp...</td>\n",
              "      <td>{'len': 5}</td>\n",
              "    </tr>\n",
              "    <tr>\n",
              "      <th>1</th>\n",
              "      <td>3647</td>\n",
              "      <td>B</td>\n",
              "      <td>\\n\\n\\n&lt;!DOCTYPE html PUBLIC \"-//W3C//DTD XHTML...</td>\n",
              "      <td>Although somewhat rare in California, Subaru O...</td>\n",
              "      <td>Although somewhat rare in California, Subaru O...</td>\n",
              "      <td>[[[although, somewhat, rare, in, california, ,...</td>\n",
              "      <td>{'len': 6}</td>\n",
              "    </tr>\n",
              "    <tr>\n",
              "      <th>2</th>\n",
              "      <td>2605</td>\n",
              "      <td>A</td>\n",
              "      <td>\\n\\n\\n&lt;!DOCTYPE html PUBLIC \"-//W3C//DTD XHTML...</td>\n",
              "      <td>My favorite person is my high school headmaste...</td>\n",
              "      <td>My favorite person is my high school headmaste...</td>\n",
              "      <td>[[[my, favorite, person, is, my, high, school,...</td>\n",
              "      <td>{'len': 7}</td>\n",
              "    </tr>\n",
              "    <tr>\n",
              "      <th>3</th>\n",
              "      <td>2592</td>\n",
              "      <td>A</td>\n",
              "      <td>\\n\\n\\n&lt;!DOCTYPE html PUBLIC \"-//W3C//DTD XHTML...</td>\n",
              "      <td>One of my favorite people is Satoshi Nakamoto....</td>\n",
              "      <td>One of my favorite people is Satoshi Nakamoto....</td>\n",
              "      <td>[[[one, of, my, favorite, people, is, satoshi,...</td>\n",
              "      <td>{'len': 6}</td>\n",
              "    </tr>\n",
              "    <tr>\n",
              "      <th>4</th>\n",
              "      <td>6388</td>\n",
              "      <td>B</td>\n",
              "      <td>\\n\\n\\n&lt;!DOCTYPE html PUBLIC \"-//W3C//DTD XHTML...</td>\n",
              "      <td>Old Betsy was a reliable Green Honda Accord th...</td>\n",
              "      <td>Old Betsy was a reliable Green Honda Accord th...</td>\n",
              "      <td>[[[old, betsy, was, a, reliable, green, honda,...</td>\n",
              "      <td>{'len': 6}</td>\n",
              "    </tr>\n",
              "  </tbody>\n",
              "</table>\n",
              "</div>"
            ],
            "text/plain": [
              "  author subject  ...                                      tokenizedText    features\n",
              "0   8842       A  ...  [[[while, i, haven, ’, t, had, a, ton, of, exp...  {'len': 5}\n",
              "1   3647       B  ...  [[[although, somewhat, rare, in, california, ,...  {'len': 6}\n",
              "2   2605       A  ...  [[[my, favorite, person, is, my, high, school,...  {'len': 7}\n",
              "3   2592       A  ...  [[[one, of, my, favorite, people, is, satoshi,...  {'len': 6}\n",
              "4   6388       B  ...  [[[old, betsy, was, a, reliable, green, honda,...  {'len': 6}\n",
              "\n",
              "[5 rows x 7 columns]"
            ]
          },
          "metadata": {},
          "execution_count": 155
        }
      ]
    },
    {
      "cell_type": "code",
      "metadata": {
        "id": "3PmIEK9iH9Wd"
      },
      "source": [
        "# from sklearn.model_selection import cross_val_score\n",
        "\n",
        "# cv_scores = cross_val_score(naiveBayes, X_train, y_train, cv=10, scoring=\"accuracy\")\n",
        "# print(cv_scores.mean())"
      ],
      "execution_count": null,
      "outputs": []
    },
    {
      "cell_type": "code",
      "metadata": {
        "colab": {
          "base_uri": "https://localhost:8080/"
        },
        "id": "0aI_0IU4JidD",
        "outputId": "4fb90d57-e701-4a04-9892-55e57cd080f2"
      },
      "source": [
        "num_folds = 10\n",
        "subset = int(len(training_set)/num_folds)\n",
        "nbAccuracies = []\n",
        "for i in range(num_folds):\n",
        "    test_fold = training_set.loc[i*subset:(i+1)*subset]\n",
        "    train_fold = pd.concat([training_set.loc[:i*subset], training_set.loc[(i+1)*subset:]])\n",
        "    featureset_train = list(zip(train_fold['features'],train_fold['subject']))\n",
        "    featureset_test = list(zip(test_fold['features'],test_fold['subject']))\n",
        "    naiveBayes = nltk.classify.NaiveBayesClassifier.train(featureset_train)\n",
        "    # decisionTree = nltk.classify.DecisionTreeClassifier()\n",
        "    nbAccuracies.append(nltk.classify.accuracy(naiveBayes, featureset_test))\n",
        "print(sum(nbAccuracies)/len(nbAccuracies))"
      ],
      "execution_count": 176,
      "outputs": [
        {
          "output_type": "stream",
          "name": "stdout",
          "text": [
            "0.5833333333333334\n"
          ]
        }
      ]
    }
  ]
}